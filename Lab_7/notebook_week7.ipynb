{
 "cells": [
  {
   "cell_type": "markdown",
   "metadata": {
    "id": "rHoSDyYpdh-s"
   },
   "source": [
    "Assignment 7: Neural Networks using Keras and Tensorflow Please see the associated document for questions\n",
    "\n",
    "If you have problems with Keras and Tensorflow on your local installation please make sure they are updated. On Google Colab this notebook runs."
   ]
  },
  {
   "cell_type": "code",
   "execution_count": 1,
   "metadata": {},
   "outputs": [
    {
     "name": "stdout",
     "output_type": "stream",
     "text": [
      "^C\n",
      "Note: you may need to restart the kernel to use updated packages.\n"
     ]
    }
   ],
   "source": [
    "pip install tensorflow"
   ]
  },
  {
   "cell_type": "code",
   "execution_count": 2,
   "metadata": {
    "id": "02ZYZ-WmdhwH"
   },
   "outputs": [],
   "source": [
    "# imports\n",
    "from __future__ import print_function\n",
    "import keras\n",
    "from keras import utils as np_utils\n",
    "import tensorflow\n",
    "from keras.datasets import mnist\n",
    "from keras.models import Sequential\n",
    "from keras.layers import Dense, Dropout, Flatten\n",
    "from keras.layers import Conv2D, MaxPooling2D\n",
    "from keras import backend as K\n",
    "import tensorflow as tf\n",
    "from matplotlib import pyplot as plt\n",
    "\n"
   ]
  },
  {
   "cell_type": "code",
   "execution_count": 3,
   "metadata": {
    "colab": {
     "base_uri": "https://localhost:8080/"
    },
    "id": "BJRCoRmew8Zd",
    "outputId": "8a74f963-06c8-4ba7-fb03-889e43dfa15e"
   },
   "outputs": [],
   "source": [
    "# Hyper-parameters data-loading and formatting\n",
    "\n",
    "batch_size = 128\n",
    "num_classes = 10\n",
    "epochs = 40\n",
    "\n",
    "img_rows, img_cols = 28, 28\n",
    "\n",
    "(x_train, lbl_train), (x_test, lbl_test) = mnist.load_data()\n",
    "\n",
    "if K.image_data_format() == 'channels_first':\n",
    "    x_train = x_train.reshape(x_train.shape[0], 1, img_rows, img_cols)\n",
    "    x_test = x_test.reshape(x_test.shape[0], 1, img_rows, img_cols)\n",
    "    input_shape = (1, img_rows, img_cols)\n",
    "else:\n",
    "    x_train = x_train.reshape(x_train.shape[0], img_rows, img_cols, 1)\n",
    "    x_test = x_test.reshape(x_test.shape[0], img_rows, img_cols, 1)\n",
    "    input_shape = (img_rows, img_cols, 1)"
   ]
  },
  {
   "cell_type": "markdown",
   "metadata": {
    "id": "-I3g1RrZ0wpI"
   },
   "source": [
    "**Preprocessing**"
   ]
  },
  {
   "cell_type": "code",
   "execution_count": 4,
   "metadata": {
    "id": "UswCCQLS0s1I"
   },
   "outputs": [],
   "source": [
    "x_train = x_train.astype('float32')\n",
    "x_test = x_test.astype('float32')\n",
    "\n",
    "x_train /= 255\n",
    "x_test /= 255\n",
    "\n",
    "y_train = keras.utils.np_utils.to_categorical(lbl_train, num_classes)\n",
    "y_test = keras.utils.np_utils.to_categorical(lbl_test, num_classes)\n"
   ]
  },
  {
   "cell_type": "code",
   "execution_count": 9,
   "metadata": {},
   "outputs": [
    {
     "data": {
      "image/png": "[encoded data removed]",
      "text/plain": [
       "<Figure size 640x480 with 1 Axes>"
      ]
     },
     "metadata": {},
     "output_type": "display_data"
    }
   ],
   "source": [
    "acc = [0.984000027179718, 0.9787999987602234, 0.9785000085830688, 0.9794999957084656, 0.977400004863739, 0.9763000011444092, 0.9833999872207642, 0.9840999841690063, 0.9800000190734863, 0.9818000197410583, 0.9611999988555908, 0.9750999808311462, 0.9824000000953674, 0.98089998960495, 0.9803000092506409]\n",
    "reg = [0.001, 0.001, 0.001, 0.0001, 0.0001, 0.0001, 0.00001, 0.00001, 0.00001, 0.000005, 0.000005, 0.000005, 0.000001, 0.000001, 0.000001]\n",
    "plt.plot(reg, acc)\n",
    "plt.xlabel('Regularization')\n",
    "plt.ylabel('Accuracy')\n",
    "plt.show()\n"
   ]
  },
  {
   "cell_type": "code",
   "execution_count": 8,
   "metadata": {
    "id": "N7Aer42gk1W9"
   },
   "outputs": [
    {
     "name": "stdout",
     "output_type": "stream",
     "text": [
      "Epoch 1/40\n",
      "469/469 [==============================] - 4s 7ms/step - loss: 0.4000 - accuracy: 0.8897 - val_loss: 0.2196 - val_accuracy: 0.9356\n",
      "Epoch 2/40\n",
      "469/469 [==============================] - 3s 7ms/step - loss: 0.1912 - accuracy: 0.9450 - val_loss: 0.1639 - val_accuracy: 0.9528\n",
      "Epoch 3/40\n",
      "469/469 [==============================] - 3s 6ms/step - loss: 0.1407 - accuracy: 0.9604 - val_loss: 0.1265 - val_accuracy: 0.9629\n",
      "Epoch 4/40\n",
      "469/469 [==============================] - 3s 7ms/step - loss: 0.1104 - accuracy: 0.9683 - val_loss: 0.1102 - val_accuracy: 0.9666\n",
      "Epoch 5/40\n",
      "469/469 [==============================] - 3s 7ms/step - loss: 0.0910 - accuracy: 0.9743 - val_loss: 0.0961 - val_accuracy: 0.9713\n",
      "Epoch 6/40\n",
      "469/469 [==============================] - 3s 6ms/step - loss: 0.0763 - accuracy: 0.9788 - val_loss: 0.0951 - val_accuracy: 0.9713\n",
      "Epoch 7/40\n",
      "469/469 [==============================] - 3s 7ms/step - loss: 0.0655 - accuracy: 0.9818 - val_loss: 0.0863 - val_accuracy: 0.9733\n",
      "Epoch 8/40\n",
      "469/469 [==============================] - 3s 6ms/step - loss: 0.0563 - accuracy: 0.9845 - val_loss: 0.0800 - val_accuracy: 0.9753\n",
      "Epoch 9/40\n",
      "469/469 [==============================] - 3s 6ms/step - loss: 0.0487 - accuracy: 0.9872 - val_loss: 0.0767 - val_accuracy: 0.9756\n",
      "Epoch 10/40\n",
      "469/469 [==============================] - 3s 6ms/step - loss: 0.0425 - accuracy: 0.9887 - val_loss: 0.0723 - val_accuracy: 0.9763\n",
      "Epoch 11/40\n",
      "469/469 [==============================] - 3s 6ms/step - loss: 0.0376 - accuracy: 0.9904 - val_loss: 0.0671 - val_accuracy: 0.9788\n",
      "Epoch 12/40\n",
      "469/469 [==============================] - 3s 6ms/step - loss: 0.0327 - accuracy: 0.9914 - val_loss: 0.0690 - val_accuracy: 0.9776\n",
      "Epoch 13/40\n",
      "469/469 [==============================] - 3s 6ms/step - loss: 0.0284 - accuracy: 0.9934 - val_loss: 0.0656 - val_accuracy: 0.9800\n",
      "Epoch 14/40\n",
      "469/469 [==============================] - 3s 6ms/step - loss: 0.0251 - accuracy: 0.9947 - val_loss: 0.0645 - val_accuracy: 0.9796\n",
      "Epoch 15/40\n",
      "469/469 [==============================] - 3s 6ms/step - loss: 0.0221 - accuracy: 0.9957 - val_loss: 0.0639 - val_accuracy: 0.9797\n",
      "Epoch 16/40\n",
      "469/469 [==============================] - 3s 6ms/step - loss: 0.0197 - accuracy: 0.9963 - val_loss: 0.0645 - val_accuracy: 0.9792\n",
      "Epoch 17/40\n",
      "469/469 [==============================] - 3s 7ms/step - loss: 0.0171 - accuracy: 0.9975 - val_loss: 0.0633 - val_accuracy: 0.9794\n",
      "Epoch 18/40\n",
      "469/469 [==============================] - 3s 7ms/step - loss: 0.0153 - accuracy: 0.9979 - val_loss: 0.0630 - val_accuracy: 0.9810\n",
      "Epoch 19/40\n",
      "469/469 [==============================] - 3s 7ms/step - loss: 0.0139 - accuracy: 0.9980 - val_loss: 0.0632 - val_accuracy: 0.9804\n",
      "Epoch 20/40\n",
      "469/469 [==============================] - 3s 7ms/step - loss: 0.0124 - accuracy: 0.9986 - val_loss: 0.0646 - val_accuracy: 0.9803\n",
      "Epoch 21/40\n",
      "469/469 [==============================] - 3s 7ms/step - loss: 0.0110 - accuracy: 0.9991 - val_loss: 0.0631 - val_accuracy: 0.9805\n",
      "Epoch 22/40\n",
      "469/469 [==============================] - 3s 6ms/step - loss: 0.0100 - accuracy: 0.9991 - val_loss: 0.0623 - val_accuracy: 0.9810\n",
      "Epoch 23/40\n",
      "469/469 [==============================] - 3s 6ms/step - loss: 0.0091 - accuracy: 0.9994 - val_loss: 0.0637 - val_accuracy: 0.9814\n",
      "Epoch 24/40\n",
      "469/469 [==============================] - 3s 6ms/step - loss: 0.0083 - accuracy: 0.9994 - val_loss: 0.0621 - val_accuracy: 0.9811\n",
      "Epoch 25/40\n",
      "469/469 [==============================] - 3s 6ms/step - loss: 0.0075 - accuracy: 0.9997 - val_loss: 0.0633 - val_accuracy: 0.9806\n",
      "Epoch 26/40\n",
      "469/469 [==============================] - 3s 6ms/step - loss: 0.0070 - accuracy: 0.9997 - val_loss: 0.0630 - val_accuracy: 0.9814\n",
      "Epoch 27/40\n",
      "469/469 [==============================] - 3s 6ms/step - loss: 0.0066 - accuracy: 0.9998 - val_loss: 0.0630 - val_accuracy: 0.9810\n",
      "Epoch 28/40\n",
      "469/469 [==============================] - 3s 6ms/step - loss: 0.0061 - accuracy: 0.9998 - val_loss: 0.0625 - val_accuracy: 0.9813\n",
      "Epoch 29/40\n",
      "469/469 [==============================] - 3s 6ms/step - loss: 0.0057 - accuracy: 0.9999 - val_loss: 0.0649 - val_accuracy: 0.9810\n",
      "Epoch 30/40\n",
      "469/469 [==============================] - 3s 6ms/step - loss: 0.0054 - accuracy: 0.9999 - val_loss: 0.0641 - val_accuracy: 0.9806\n",
      "Epoch 31/40\n",
      "469/469 [==============================] - 3s 6ms/step - loss: 0.0051 - accuracy: 0.9999 - val_loss: 0.0632 - val_accuracy: 0.9810\n",
      "Epoch 32/40\n",
      "469/469 [==============================] - 3s 6ms/step - loss: 0.0049 - accuracy: 0.9999 - val_loss: 0.0631 - val_accuracy: 0.9818\n",
      "Epoch 33/40\n",
      "469/469 [==============================] - 3s 6ms/step - loss: 0.0047 - accuracy: 0.9999 - val_loss: 0.0633 - val_accuracy: 0.9816\n",
      "Epoch 34/40\n",
      "469/469 [==============================] - 3s 6ms/step - loss: 0.0045 - accuracy: 0.9999 - val_loss: 0.0627 - val_accuracy: 0.9814\n",
      "Epoch 35/40\n",
      "469/469 [==============================] - 3s 7ms/step - loss: 0.0043 - accuracy: 1.0000 - val_loss: 0.0636 - val_accuracy: 0.9821\n",
      "Epoch 36/40\n",
      "469/469 [==============================] - 3s 7ms/step - loss: 0.0041 - accuracy: 1.0000 - val_loss: 0.0644 - val_accuracy: 0.9815\n",
      "Epoch 37/40\n",
      "469/469 [==============================] - 3s 6ms/step - loss: 0.0040 - accuracy: 1.0000 - val_loss: 0.0642 - val_accuracy: 0.9815\n",
      "Epoch 38/40\n",
      "469/469 [==============================] - 3s 6ms/step - loss: 0.0039 - accuracy: 1.0000 - val_loss: 0.0643 - val_accuracy: 0.9814\n",
      "Epoch 39/40\n",
      "469/469 [==============================] - 3s 6ms/step - loss: 0.0037 - accuracy: 1.0000 - val_loss: 0.0645 - val_accuracy: 0.9811\n",
      "Epoch 40/40\n",
      "469/469 [==============================] - 3s 6ms/step - loss: 0.0036 - accuracy: 1.0000 - val_loss: 0.0644 - val_accuracy: 0.9818\n",
      "Test loss: 0.06444976478815079, Test accuracy 0.9818000197410583\n",
      "[0.9818000197410583]\n"
     ]
    }
   ],
   "source": [
    "\n",
    "## Define model ##\n",
    "model = Sequential()\n",
    "\n",
    "reg = [0.001, 0.0001, 0.00001, 0.000005, 0.000001]\n",
    "acc = []\n",
    "duplicates = 3\n",
    "\n",
    "for i in range(3, 4):\n",
    "                model.add(Flatten())\n",
    "                model.add(Dense(500, activation = 'relu', activity_regularizer=tensorflow.keras.regularizers.l2(reg[i])))\n",
    "                model.add(Dense(300, activation = 'relu', activity_regularizer=tensorflow.keras.regularizers.l2(reg[i])))\n",
    "                model.add(Dense(num_classes, activation='softmax'))\n",
    "\n",
    "\n",
    "                model.compile(loss=keras.losses.categorical_crossentropy,\n",
    "                        optimizer=tensorflow.keras.optimizers.SGD(learning_rate = 0.1),\n",
    "                        metrics=['accuracy'],)\n",
    "\n",
    "                fit_info = model.fit(x_train, y_train,\n",
    "                        batch_size=batch_size,\n",
    "                        epochs=epochs,\n",
    "                        verbose=1,\n",
    "                        validation_data=(x_test, y_test))\n",
    "                score = model.evaluate(x_test, y_test, verbose=0)\n",
    "                print('Test loss: {}, Test accuracy {}'.format(score[0], score[1]))\n",
    "                acc.append(score[1])\n",
    "print(acc)"
   ]
  }
 ],
 "metadata": {
  "colab": {
   "collapsed_sections": [],
   "name": "Assignment_7_NN.ipynb",
   "provenance": []
  },
  "kernelspec": {
   "display_name": "Python 3.10.7 64-bit",
   "language": "python",
   "name": "python3"
  },
  "language_info": {
   "codemirror_mode": {
    "name": "ipython",
    "version": 3
   },
   "file_extension": ".py",
   "mimetype": "text/x-python",
   "name": "python",
   "nbconvert_exporter": "python",
   "pygments_lexer": "ipython3",
   "version": "3.10.7"
  },
  "vscode": {
   "interpreter": {
    "hash": "369f2c481f4da34e4445cda3fffd2e751bd1c4d706f27375911949ba6bb62e1c"
   }
  }
 },
 "nbformat": 4,
 "nbformat_minor": 1
}
